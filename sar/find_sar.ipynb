{
 "cells": [
  {
   "cell_type": "code",
   "execution_count": 1,
   "metadata": {},
   "outputs": [],
   "source": [
    "import pyeodh\n",
    "import os\n",
    "\n",
    "import shapely \n",
    "import geopandas as gpd\n",
    "import folium\n"
   ]
  },
  {
   "cell_type": "code",
   "execution_count": 2,
   "metadata": {},
   "outputs": [],
   "source": [
    "thet_pnt = shapely.Point(0.6715892933273722, 52.414471075812315) # a site near Thetford"
   ]
  },
  {
   "cell_type": "code",
   "execution_count": 3,
   "metadata": {},
   "outputs": [
    {
     "name": "stdout",
     "output_type": "stream",
     "text": [
      "cmip6: CMIP6\n",
      "cmip6: CMIP6\n",
      "cordex: CORDEX\n",
      "cordex: CORDEX\n",
      "ukcp: UKCP\n",
      "ukcp: UKCP\n",
      "airbus_sar_data: The German TerraSAR-X / TanDEM-X satellite formation and the Spanish PAZ satellite (managed by Hisdesat Servicios Estratégicos S.A.) are being operated in the same orbit tube and feature identical ground swaths and imaging modes - allowing Airbus and Hisdesat to establish a unique commercial Radar Constellation. The satellites carry a high frequency X-band Synthetic Aperture Radar (SAR) sensor in order to acquire datasets ranging from very high-resolution imagery to wide area coverage.\n",
      "defra-airbus: A collection of Airbus data for the DEFRA use case.\n",
      "defra-planet: A collection of Planet data for the DEFRA use case.\n",
      "eocis-sst-cdrv3: EOCIS Sea-Surface Temperatures V3\n"
     ]
    }
   ],
   "source": [
    "# Connect to the Hub\n",
    "client = pyeodh.Client().get_catalog_service()\n",
    "\n",
    "# Print a list of the collections held in the Resource Catalogue (their id and description).\n",
    "# As the Resource Catalogue fills and development continues, the number of collections and the richness of their descriptions will increase\n",
    "for collect in client.get_collections():\n",
    "    print(f\"{collect.id}: {collect.description}\")"
   ]
  },
  {
   "cell_type": "markdown",
   "metadata": {},
   "source": [
    "# S1 SAR"
   ]
  },
  {
   "cell_type": "code",
   "execution_count": 11,
   "metadata": {},
   "outputs": [
    {
     "name": "stdout",
     "output_type": "stream",
     "text": [
      "Number of items found:  15\n"
     ]
    }
   ],
   "source": [
    "# To find specific imagery for the site we need to add the intersects parameter. We set this to be our AOI point.\n",
    "# We can also filter the search by cloud cover, in this case limiting our search to images with less than 50% cloud in them\n",
    "\n",
    "items = client.search(\n",
    "    collections=['sentinel1'],\n",
    "    catalog_paths=[\"supported-datasets/ceda-stac-fastapi\"],\n",
    "    intersects=thet_pnt,\n",
    "    query=[\n",
    "        'start_datetime>=2024-04-01',\n",
    "        'end_datetime<=2024-06-30', \n",
    "    ],\n",
    "    limit=1000,\n",
    ")\n",
    "\n",
    "# We can then count the number of items returned by the search \n",
    "print('Number of items found: ', items.total_count)"
   ]
  },
  {
   "cell_type": "code",
   "execution_count": 8,
   "metadata": {},
   "outputs": [
    {
     "name": "stdout",
     "output_type": "stream",
     "text": [
      "S1A_IW_SLC__1SDV_20230529T181921_20230529T181945_048752_05DCF3_CAA0.manifest https://dap.ceda.ac.uk/neodc/sentinel1a/data/IW/L1_SLC/IPF_v3/2023/05/29/S1A_IW_SLC__1SDV_20230529T181921_20230529T181945_048752_05DCF3_CAA0.manifest\n",
      "S1A_IW_SLC__1SDV_20230529T181921_20230529T181945_048752_05DCF3_CAA0.metadata_only.zip https://dap.ceda.ac.uk/neodc/sentinel1a/data/IW/L1_SLC/IPF_v3/2023/05/29/S1A_IW_SLC__1SDV_20230529T181921_20230529T181945_048752_05DCF3_CAA0.metadata_only.zip\n",
      "S1A_IW_SLC__1SDV_20230529T181921_20230529T181945_048752_05DCF3_CAA0.png https://dap.ceda.ac.uk/neodc/sentinel1a/data/IW/L1_SLC/IPF_v3/2023/05/29/S1A_IW_SLC__1SDV_20230529T181921_20230529T181945_048752_05DCF3_CAA0.png\n",
      "S1A_IW_SLC__1SDV_20230529T181921_20230529T181945_048752_05DCF3_CAA0.zip https://dap.ceda.ac.uk/neodc/sentinel1a/data/IW/L1_SLC/IPF_v3/2023/05/29/S1A_IW_SLC__1SDV_20230529T181921_20230529T181945_048752_05DCF3_CAA0.zip\n",
      "S1A_IW_SLC__1SDV_20230529T181921_20230529T181945_048752_05DCF3_CAA0_checksum https://dap.ceda.ac.uk/neodc/sentinel1a/data/IW/L1_SLC/IPF_v3/2023/05/29/S1A_IW_SLC__1SDV_20230529T181921_20230529T181945_048752_05DCF3_CAA0_checksum\n"
     ]
    }
   ],
   "source": [
    "# Now we can get the link to each of the different assets\n",
    "for key, value in items[1].assets.items():\n",
    "    print(key, value.href)"
   ]
  },
  {
   "cell_type": "markdown",
   "metadata": {},
   "source": [
    "# S2 ARD"
   ]
  },
  {
   "cell_type": "code",
   "execution_count": 21,
   "metadata": {},
   "outputs": [
    {
     "name": "stdout",
     "output_type": "stream",
     "text": [
      "Number of items found:  44\n"
     ]
    }
   ],
   "source": [
    "# To find specific imagery for the site we need to add the intersects parameter. We set this to be our AOI point.\n",
    "# We can also filter the search by cloud cover, in this case limiting our search to images with less than 50% cloud in them\n",
    "\n",
    "items = client.search(\n",
    "    collections=['sentinel2_ard'],\n",
    "    catalog_paths=[\"supported-datasets/ceda-stac-fastapi\"],\n",
    "    intersects=thet_pnt,\n",
    "    query=[\n",
    "        'start_datetime>=2023-04-01',\n",
    "        'end_datetime<=2023-06-30',\n",
    "    ],\n",
    "    limit=1000,\n",
    ")\n",
    "\n",
    "# We can then count the number of items returned by the search \n",
    "print('Number of items found: ', items.total_count)"
   ]
  },
  {
   "cell_type": "code",
   "execution_count": 38,
   "metadata": {},
   "outputs": [
    {
     "name": "stdout",
     "output_type": "stream",
     "text": [
      "{'start_datetime': '2023-06-25T11:06:19+00:00', 'end_datetime': '2023-06-25T11:06:19+00:00', 'datetime': '2023-06-25T11:06:19+00:00'}\n",
      "{'start_datetime': '2023-06-25T11:06:19+00:00', 'end_datetime': '2023-06-25T11:06:19+00:00', 'datetime': '2023-06-25T11:06:19+00:00'}\n",
      "{'start_datetime': '2023-06-22T10:56:29+00:00', 'end_datetime': '2023-06-22T10:56:29+00:00', 'datetime': '2023-06-22T10:56:29+00:00'}\n",
      "{'start_datetime': '2023-06-22T10:56:29+00:00', 'end_datetime': '2023-06-22T10:56:29+00:00', 'datetime': '2023-06-22T10:56:29+00:00'}\n",
      "{'start_datetime': '2023-06-15T11:06:29+00:00', 'end_datetime': '2023-06-15T11:06:29+00:00', 'datetime': '2023-06-15T11:06:29+00:00'}\n",
      "{'start_datetime': '2023-06-15T11:06:29+00:00', 'end_datetime': '2023-06-15T11:06:29+00:00', 'datetime': '2023-06-15T11:06:29+00:00'}\n",
      "{'start_datetime': '2023-06-12T10:56:29+00:00', 'end_datetime': '2023-06-12T10:56:29+00:00', 'datetime': '2023-06-12T10:56:29+00:00'}\n",
      "{'start_datetime': '2023-06-12T10:56:29+00:00', 'end_datetime': '2023-06-12T10:56:29+00:00', 'datetime': '2023-06-12T10:56:29+00:00'}\n",
      "{'start_datetime': '2023-06-10T11:06:21+00:00', 'end_datetime': '2023-06-10T11:06:21+00:00', 'datetime': '2023-06-10T11:06:21+00:00'}\n",
      "{'start_datetime': '2023-06-10T11:06:21+00:00', 'end_datetime': '2023-06-10T11:06:21+00:00', 'datetime': '2023-06-10T11:06:21+00:00'}\n",
      "{'start_datetime': '2023-06-07T10:56:21+00:00', 'end_datetime': '2023-06-07T10:56:21+00:00', 'datetime': '2023-06-07T10:56:21+00:00'}\n",
      "{'start_datetime': '2023-06-07T10:56:21+00:00', 'end_datetime': '2023-06-07T10:56:21+00:00', 'datetime': '2023-06-07T10:56:21+00:00'}\n",
      "{'start_datetime': '2023-06-02T10:56:29+00:00', 'end_datetime': '2023-06-02T10:56:29+00:00', 'datetime': '2023-06-02T10:56:29+00:00'}\n",
      "{'start_datetime': '2023-06-02T10:56:29+00:00', 'end_datetime': '2023-06-02T10:56:29+00:00', 'datetime': '2023-06-02T10:56:29+00:00'}\n",
      "{'start_datetime': '2023-05-26T11:06:29+00:00', 'end_datetime': '2023-05-26T11:06:29+00:00', 'datetime': '2023-05-26T11:06:29+00:00'}\n",
      "{'start_datetime': '2023-05-26T11:06:29+00:00', 'end_datetime': '2023-05-26T11:06:29+00:00', 'datetime': '2023-05-26T11:06:29+00:00'}\n",
      "{'start_datetime': '2023-05-23T10:56:29+00:00', 'end_datetime': '2023-05-23T10:56:29+00:00', 'datetime': '2023-05-23T10:56:29+00:00'}\n",
      "{'start_datetime': '2023-05-23T10:56:29+00:00', 'end_datetime': '2023-05-23T10:56:29+00:00', 'datetime': '2023-05-23T10:56:29+00:00'}\n",
      "{'start_datetime': '2023-05-21T11:06:21+00:00', 'end_datetime': '2023-05-21T11:06:21+00:00', 'datetime': '2023-05-21T11:06:21+00:00'}\n",
      "{'start_datetime': '2023-05-21T11:06:21+00:00', 'end_datetime': '2023-05-21T11:06:21+00:00', 'datetime': '2023-05-21T11:06:21+00:00'}\n",
      "{'start_datetime': '2023-05-18T10:56:21+00:00', 'end_datetime': '2023-05-18T10:56:21+00:00', 'datetime': '2023-05-18T10:56:21+00:00'}\n",
      "{'start_datetime': '2023-05-18T10:56:21+00:00', 'end_datetime': '2023-05-18T10:56:21+00:00', 'datetime': '2023-05-18T10:56:21+00:00'}\n",
      "{'start_datetime': '2023-05-16T11:06:19+00:00', 'end_datetime': '2023-05-16T11:06:19+00:00', 'datetime': '2023-05-16T11:06:19+00:00'}\n",
      "{'start_datetime': '2023-05-16T11:06:19+00:00', 'end_datetime': '2023-05-16T11:06:19+00:00', 'datetime': '2023-05-16T11:06:19+00:00'}\n",
      "{'start_datetime': '2023-05-11T11:06:21+00:00', 'end_datetime': '2023-05-11T11:06:21+00:00', 'datetime': '2023-05-11T11:06:21+00:00'}\n",
      "{'start_datetime': '2023-05-11T11:06:21+00:00', 'end_datetime': '2023-05-11T11:06:21+00:00', 'datetime': '2023-05-11T11:06:21+00:00'}\n",
      "{'start_datetime': '2023-05-03T10:56:19+00:00', 'end_datetime': '2023-05-03T10:56:19+00:00', 'datetime': '2023-05-03T10:56:19+00:00'}\n",
      "{'start_datetime': '2023-05-03T10:56:19+00:00', 'end_datetime': '2023-05-03T10:56:19+00:00', 'datetime': '2023-05-03T10:56:19+00:00'}\n",
      "{'start_datetime': '2023-05-01T11:06:21+00:00', 'end_datetime': '2023-05-01T11:06:21+00:00', 'datetime': '2023-05-01T11:06:21+00:00'}\n",
      "{'start_datetime': '2023-05-01T11:06:21+00:00', 'end_datetime': '2023-05-01T11:06:21+00:00', 'datetime': '2023-05-01T11:06:21+00:00'}\n",
      "{'start_datetime': '2023-04-23T10:56:19+00:00', 'end_datetime': '2023-04-23T10:56:19+00:00', 'datetime': '2023-04-23T10:56:19+00:00'}\n",
      "{'start_datetime': '2023-04-23T10:56:19+00:00', 'end_datetime': '2023-04-23T10:56:19+00:00', 'datetime': '2023-04-23T10:56:19+00:00'}\n",
      "{'start_datetime': '2023-04-21T11:06:21+00:00', 'end_datetime': '2023-04-21T11:06:21+00:00', 'datetime': '2023-04-21T11:06:21+00:00'}\n",
      "{'start_datetime': '2023-04-21T11:06:21+00:00', 'end_datetime': '2023-04-21T11:06:21+00:00', 'datetime': '2023-04-21T11:06:21+00:00'}\n",
      "{'start_datetime': '2023-04-18T10:56:21+00:00', 'end_datetime': '2023-04-18T10:56:21+00:00', 'datetime': '2023-04-18T10:56:21+00:00'}\n",
      "{'start_datetime': '2023-04-18T10:56:21+00:00', 'end_datetime': '2023-04-18T10:56:21+00:00', 'datetime': '2023-04-18T10:56:21+00:00'}\n",
      "{'start_datetime': '2023-04-13T10:56:19+00:00', 'end_datetime': '2023-04-13T10:56:19+00:00', 'datetime': '2023-04-13T10:56:19+00:00'}\n",
      "{'start_datetime': '2023-04-13T10:56:19+00:00', 'end_datetime': '2023-04-13T10:56:19+00:00', 'datetime': '2023-04-13T10:56:19+00:00'}\n",
      "{'start_datetime': '2023-04-11T11:06:21+00:00', 'end_datetime': '2023-04-11T11:06:21+00:00', 'datetime': '2023-04-11T11:06:21+00:00'}\n",
      "{'start_datetime': '2023-04-11T11:06:21+00:00', 'end_datetime': '2023-04-11T11:06:21+00:00', 'datetime': '2023-04-11T11:06:21+00:00'}\n",
      "{'start_datetime': '2023-04-03T10:56:29+00:00', 'end_datetime': '2023-04-03T10:56:29+00:00', 'datetime': '2023-04-03T10:56:29+00:00'}\n",
      "{'start_datetime': '2023-04-03T10:56:29+00:00', 'end_datetime': '2023-04-03T10:56:29+00:00', 'datetime': '2023-04-03T10:56:29+00:00'}\n",
      "{'start_datetime': '2023-04-03T10:56:29+00:00', 'end_datetime': '2023-04-03T10:56:29+00:00', 'datetime': '2023-04-03T10:56:29+00:00'}\n",
      "{'start_datetime': '2023-04-03T10:56:29+00:00', 'end_datetime': '2023-04-03T10:56:29+00:00', 'datetime': '2023-04-03T10:56:29+00:00'}\n"
     ]
    }
   ],
   "source": [
    "for item in items:\n",
    "    print(item.properties)#item.id, item.properties, item.assets)"
   ]
  },
  {
   "cell_type": "markdown",
   "metadata": {},
   "source": [
    "# TESTS"
   ]
  }
 ],
 "metadata": {
  "kernelspec": {
   "display_name": "eodh",
   "language": "python",
   "name": "python3"
  },
  "language_info": {
   "codemirror_mode": {
    "name": "ipython",
    "version": 3
   },
   "file_extension": ".py",
   "mimetype": "text/x-python",
   "name": "python",
   "nbconvert_exporter": "python",
   "pygments_lexer": "ipython3",
   "version": "3.12.2"
  }
 },
 "nbformat": 4,
 "nbformat_minor": 2
}
