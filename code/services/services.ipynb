{
 "cells": [
  {
   "cell_type": "code",
   "execution_count": 1,
   "metadata": {},
   "outputs": [
    {
     "name": "stdout",
     "output_type": "stream",
     "text": [
      "OGC WMTS\n",
      "1.0.0\n",
      "None\n",
      "[]\n"
     ]
    }
   ],
   "source": [
    "from owslib.wmts import WebMapTileService\n",
    "s_url = \"https://test.eodatahub.org.uk/vs/cache/ows/wmts?\"\n",
    "\n",
    "wmts = WebMapTileService(s_url)\n",
    "\n",
    "print(wmts.identification.type)\n",
    "print(wmts.identification.version)\n",
    "print(wmts.identification.title)\n",
    "print(wmts.identification.keywords)"
   ]
  },
  {
   "cell_type": "code",
   "execution_count": 2,
   "metadata": {},
   "outputs": [
    {
     "name": "stdout",
     "output_type": "stream",
     "text": [
      "['LST_COLLECTION__LST_VISUALIZATION', 'S2L1C__CLOUD', 'S2L1C__CLOUD_PROB', 'S2L1C__FALSE_COLOR', 'S2L1C__NDVI', 'S2L1C__TRUE_COLOR']\n"
     ]
    }
   ],
   "source": [
    "if len(wmts.contents.keys()) > 0:\n",
    "    print(sorted(list(wmts.contents)))#[0])\n",
    "else:\n",
    "    print(\"No data\")"
   ]
  },
  {
   "cell_type": "code",
   "execution_count": 3,
   "metadata": {},
   "outputs": [
    {
     "data": {
      "text/html": [
       "<div style=\"width:100%;\"><div style=\"position:relative;width:100%;height:0;padding-bottom:60%;\"><span style=\"color:#565656\">Make this Notebook Trusted to load map: File -> Trust Notebook</span><iframe srcdoc=\"&lt;!DOCTYPE html&gt;\n",
       "&lt;html&gt;\n",
       "&lt;head&gt;\n",
       "    \n",
       "    &lt;meta http-equiv=&quot;content-type&quot; content=&quot;text/html; charset=UTF-8&quot; /&gt;\n",
       "    \n",
       "        &lt;script&gt;\n",
       "            L_NO_TOUCH = false;\n",
       "            L_DISABLE_3D = false;\n",
       "        &lt;/script&gt;\n",
       "    \n",
       "    &lt;style&gt;html, body {width: 100%;height: 100%;margin: 0;padding: 0;}&lt;/style&gt;\n",
       "    &lt;style&gt;#map {position:absolute;top:0;bottom:0;right:0;left:0;}&lt;/style&gt;\n",
       "    &lt;script src=&quot;https://cdn.jsdelivr.net/npm/leaflet@1.9.3/dist/leaflet.js&quot;&gt;&lt;/script&gt;\n",
       "    &lt;script src=&quot;https://code.jquery.com/jquery-3.7.1.min.js&quot;&gt;&lt;/script&gt;\n",
       "    &lt;script src=&quot;https://cdn.jsdelivr.net/npm/bootstrap@5.2.2/dist/js/bootstrap.bundle.min.js&quot;&gt;&lt;/script&gt;\n",
       "    &lt;script src=&quot;https://cdnjs.cloudflare.com/ajax/libs/Leaflet.awesome-markers/2.0.2/leaflet.awesome-markers.js&quot;&gt;&lt;/script&gt;\n",
       "    &lt;link rel=&quot;stylesheet&quot; href=&quot;https://cdn.jsdelivr.net/npm/leaflet@1.9.3/dist/leaflet.css&quot;/&gt;\n",
       "    &lt;link rel=&quot;stylesheet&quot; href=&quot;https://cdn.jsdelivr.net/npm/bootstrap@5.2.2/dist/css/bootstrap.min.css&quot;/&gt;\n",
       "    &lt;link rel=&quot;stylesheet&quot; href=&quot;https://netdna.bootstrapcdn.com/bootstrap/3.0.0/css/bootstrap.min.css&quot;/&gt;\n",
       "    &lt;link rel=&quot;stylesheet&quot; href=&quot;https://cdn.jsdelivr.net/npm/@fortawesome/fontawesome-free@6.2.0/css/all.min.css&quot;/&gt;\n",
       "    &lt;link rel=&quot;stylesheet&quot; href=&quot;https://cdnjs.cloudflare.com/ajax/libs/Leaflet.awesome-markers/2.0.2/leaflet.awesome-markers.css&quot;/&gt;\n",
       "    &lt;link rel=&quot;stylesheet&quot; href=&quot;https://cdn.jsdelivr.net/gh/python-visualization/folium/folium/templates/leaflet.awesome.rotate.min.css&quot;/&gt;\n",
       "    \n",
       "            &lt;meta name=&quot;viewport&quot; content=&quot;width=device-width,\n",
       "                initial-scale=1.0, maximum-scale=1.0, user-scalable=no&quot; /&gt;\n",
       "            &lt;style&gt;\n",
       "                #map_509fef7aa692e74af4dbb3d012848915 {\n",
       "                    position: relative;\n",
       "                    width: 100.0%;\n",
       "                    height: 100.0%;\n",
       "                    left: 0.0%;\n",
       "                    top: 0.0%;\n",
       "                }\n",
       "                .leaflet-container { font-size: 1rem; }\n",
       "            &lt;/style&gt;\n",
       "        \n",
       "&lt;/head&gt;\n",
       "&lt;body&gt;\n",
       "    \n",
       "    \n",
       "            &lt;div class=&quot;folium-map&quot; id=&quot;map_509fef7aa692e74af4dbb3d012848915&quot; &gt;&lt;/div&gt;\n",
       "        \n",
       "&lt;/body&gt;\n",
       "&lt;script&gt;\n",
       "    \n",
       "    \n",
       "            var map_509fef7aa692e74af4dbb3d012848915 = L.map(\n",
       "                &quot;map_509fef7aa692e74af4dbb3d012848915&quot;,\n",
       "                {\n",
       "                    center: [52.0, 0.0],\n",
       "                    crs: L.CRS.EPSG3857,\n",
       "                    zoom: 5,\n",
       "                    zoomControl: true,\n",
       "                    preferCanvas: false,\n",
       "                }\n",
       "            );\n",
       "\n",
       "            \n",
       "\n",
       "        \n",
       "    \n",
       "            var tile_layer_5f70c0d2895cea9c0eb23885108e6c6b = L.tileLayer(\n",
       "                &quot;https://tile.openstreetmap.org/{z}/{x}/{y}.png&quot;,\n",
       "                {&quot;attribution&quot;: &quot;\\u0026copy; \\u003ca href=\\&quot;https://www.openstreetmap.org/copyright\\&quot;\\u003eOpenStreetMap\\u003c/a\\u003e contributors&quot;, &quot;detectRetina&quot;: false, &quot;maxNativeZoom&quot;: 19, &quot;maxZoom&quot;: 19, &quot;minZoom&quot;: 0, &quot;noWrap&quot;: false, &quot;opacity&quot;: 1, &quot;subdomains&quot;: &quot;abc&quot;, &quot;tms&quot;: false}\n",
       "            );\n",
       "        \n",
       "    \n",
       "            tile_layer_5f70c0d2895cea9c0eb23885108e6c6b.addTo(map_509fef7aa692e74af4dbb3d012848915);\n",
       "        \n",
       "    \n",
       "            var tile_layer_ba0b86369d174ebbdb51bdcc6f98b55f = L.tileLayer(\n",
       "                &quot;https://test.eodatahub.org.uk/vs/cache/ows/wmts?&quot;,\n",
       "                {&quot;attribution&quot;: &quot;\\u0026copy; \\u003ca href=\\&quot;https://test.eodatahub.org.uk\\&quot;\\u003eEO Data Hub\\u003c/a\\u003e&quot;, &quot;detectRetina&quot;: false, &quot;fmt&quot;: &quot;image/png&quot;, &quot;layer&quot;: &quot;S2L1C__TRUE_COLOR&quot;, &quot;maxNativeZoom&quot;: 18, &quot;maxZoom&quot;: 18, &quot;minZoom&quot;: 0, &quot;noWrap&quot;: false, &quot;opacity&quot;: 1, &quot;service&quot;: &quot;WMTS&quot;, &quot;subdomains&quot;: &quot;abc&quot;, &quot;tilematrixset&quot;: &quot;WGS84&quot;, &quot;tms&quot;: false}\n",
       "            );\n",
       "        \n",
       "    \n",
       "            tile_layer_ba0b86369d174ebbdb51bdcc6f98b55f.addTo(map_509fef7aa692e74af4dbb3d012848915);\n",
       "        \n",
       "    \n",
       "            var layer_control_35fbf5a722d6882bc1abcff971d96a35_layers = {\n",
       "                base_layers : {\n",
       "                    &quot;openstreetmap&quot; : tile_layer_5f70c0d2895cea9c0eb23885108e6c6b,\n",
       "                },\n",
       "                overlays :  {\n",
       "                    &quot;WMTS Layer&quot; : tile_layer_ba0b86369d174ebbdb51bdcc6f98b55f,\n",
       "                },\n",
       "            };\n",
       "            let layer_control_35fbf5a722d6882bc1abcff971d96a35 = L.control.layers(\n",
       "                layer_control_35fbf5a722d6882bc1abcff971d96a35_layers.base_layers,\n",
       "                layer_control_35fbf5a722d6882bc1abcff971d96a35_layers.overlays,\n",
       "                {&quot;autoZIndex&quot;: true, &quot;collapsed&quot;: true, &quot;position&quot;: &quot;topright&quot;}\n",
       "            ).addTo(map_509fef7aa692e74af4dbb3d012848915);\n",
       "\n",
       "        \n",
       "&lt;/script&gt;\n",
       "&lt;/html&gt;\" style=\"position:absolute;width:100%;height:100%;left:0;top:0;border:none !important;\" allowfullscreen webkitallowfullscreen mozallowfullscreen></iframe></div></div>"
      ],
      "text/plain": [
       "<folium.folium.Map at 0x7bebe534d010>"
      ]
     },
     "execution_count": 3,
     "metadata": {},
     "output_type": "execute_result"
    }
   ],
   "source": [
    "import folium\n",
    "\n",
    "# Create a map centered at a specific latitude and longitude\n",
    "m = folium.Map(location=[52, 0], zoom_start=5)\n",
    "\n",
    "# WMTS Layer URL template with placeholders for TileMatrix, TileCol, and TileRow\n",
    "#wmts_url = (\n",
    "#    'https://test.eodatahub.org.uk/vs/cache/ows/wmts?layer=S2L1C__TRUE_COLOR&style=default'\n",
    "#    '&tilematrixset=WGS84&Service=WMTS&Request=GetTile&Version=1.0.0&Format=image%2Fpng'\n",
    "#    '&TileMatrix={z}&TileCol={x}&TileRow={y}&time=2023-01-01T00%3A00%3A00Z%2F2023-12-31T23%3A59%3A59Z'\n",
    "#)\n",
    "wmts_url = 'https://test.eodatahub.org.uk/vs/cache/ows/wmts?'\n",
    "\n",
    "#service=WMTS&request=GetCapabilities\n",
    "\n",
    "# Add WMTS layer to the map\n",
    "folium.raster_layers.TileLayer(\n",
    "    tiles=wmts_url,\n",
    "    service='WMTS',\n",
    "    layer='S2L1C__TRUE_COLOR',\n",
    "    tilematrixset='WGS84',\n",
    "    attr='&copy; <a href=\"https://test.eodatahub.org.uk\">EO Data Hub</a>',\n",
    "    name='WMTS Layer',\n",
    "    overlay=True,\n",
    "    control=True,\n",
    "    fmt='image/png'\n",
    ").add_to(m)\n",
    "\n",
    "# Add a layer control to toggle the WMTS layer\n",
    "folium.LayerControl().add_to(m)\n",
    "\n",
    "m\n",
    "# Save the map to an HTML file\n",
    "#m.save('wmts_map.html')\n",
    "\n",
    "#https://a.s2maps-tiles.eu/wmts/?service=WMTS&request=GetCapabilities\n"
   ]
  }
 ],
 "metadata": {
  "kernelspec": {
   "display_name": "eodh",
   "language": "python",
   "name": "python3"
  },
  "language_info": {
   "codemirror_mode": {
    "name": "ipython",
    "version": 3
   },
   "file_extension": ".py",
   "mimetype": "text/x-python",
   "name": "python",
   "nbconvert_exporter": "python",
   "pygments_lexer": "ipython3",
   "version": "3.12.2"
  }
 },
 "nbformat": 4,
 "nbformat_minor": 2
}
